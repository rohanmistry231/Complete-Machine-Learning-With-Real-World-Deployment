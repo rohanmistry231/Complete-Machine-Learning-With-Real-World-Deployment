{
 "cells": [
  {
   "cell_type": "markdown",
   "metadata": {
    "id": "GkuR4xVcdVrb"
   },
   "source": [
    "\n",
    "<center><h1> Data Structure - Set</h1></center>\n"
   ]
  },
  {
   "cell_type": "markdown",
   "metadata": {
    "id": "3MqvgR3xdVrp"
   },
   "source": [
    "#### Defining a set in Python\n",
    "\n",
    "---"
   ]
  },
  {
   "cell_type": "code",
   "execution_count": null,
   "metadata": {
    "id": "hgbdSpyDdVrx"
   },
   "outputs": [],
   "source": [
    "my_set = {'A', 'B', 'C', 'D', 1, 'E', 2, 4}"
   ]
  },
  {
   "cell_type": "code",
   "execution_count": null,
   "metadata": {
    "colab": {
     "base_uri": "https://localhost:8080/"
    },
    "executionInfo": {
     "elapsed": 128,
     "status": "ok",
     "timestamp": 1652275103007,
     "user": {
      "displayName": "Akhil Vydyula",
      "userId": "12835033834937061766"
     },
     "user_tz": -330
    },
    "id": "j9U1ez2vdVsE",
    "outputId": "88bab979-7933-40d6-cb95-a0d9305640cd"
   },
   "outputs": [
    {
     "data": {
      "text/plain": [
       "{1, 2, 4, 'A', 'B', 'C', 'D', 'E'}"
      ]
     },
     "execution_count": 2,
     "metadata": {},
     "output_type": "execute_result"
    }
   ],
   "source": [
    "my_set"
   ]
  },
  {
   "cell_type": "code",
   "execution_count": null,
   "metadata": {
    "id": "QChHg6oBdVsS"
   },
   "outputs": [],
   "source": [
    "my_set = {'A', 'B', 'C', 'D', 1, 'E', 2, 4, 2 , 2}"
   ]
  },
  {
   "cell_type": "code",
   "execution_count": null,
   "metadata": {
    "colab": {
     "base_uri": "https://localhost:8080/"
    },
    "executionInfo": {
     "elapsed": 99,
     "status": "ok",
     "timestamp": 1652275103014,
     "user": {
      "displayName": "Akhil Vydyula",
      "userId": "12835033834937061766"
     },
     "user_tz": -330
    },
    "id": "w22G75_WdVse",
    "outputId": "10fb4ead-9cc5-44e6-db82-38d8fdfc1f79"
   },
   "outputs": [
    {
     "data": {
      "text/plain": [
       "{1, 2, 4, 'A', 'B', 'C', 'D', 'E'}"
      ]
     },
     "execution_count": 4,
     "metadata": {},
     "output_type": "execute_result"
    }
   ],
   "source": [
    "my_set"
   ]
  },
  {
   "cell_type": "markdown",
   "metadata": {
    "id": "cAKelVCEdVsp"
   },
   "source": [
    "#### Defining a set from a List  and Tuple\n",
    "\n",
    "---"
   ]
  },
  {
   "cell_type": "code",
   "execution_count": null,
   "metadata": {
    "id": "_6BizPVmdVss"
   },
   "outputs": [],
   "source": [
    "my_list = ['A', 'B', 1, 2, 'B', 'A']\n",
    "my_set_from_list = set(my_list)"
   ]
  },
  {
   "cell_type": "code",
   "execution_count": null,
   "metadata": {
    "colab": {
     "base_uri": "https://localhost:8080/"
    },
    "executionInfo": {
     "elapsed": 97,
     "status": "ok",
     "timestamp": 1652275103017,
     "user": {
      "displayName": "Akhil Vydyula",
      "userId": "12835033834937061766"
     },
     "user_tz": -330
    },
    "id": "m-Qgd_vjdVs2",
    "outputId": "df0e87e0-801d-4c70-a4e5-9e7e2690506d"
   },
   "outputs": [
    {
     "data": {
      "text/plain": [
       "{1, 2, 'A', 'B'}"
      ]
     },
     "execution_count": 6,
     "metadata": {},
     "output_type": "execute_result"
    }
   ],
   "source": [
    "my_set_from_list"
   ]
  },
  {
   "cell_type": "code",
   "execution_count": null,
   "metadata": {
    "id": "CUnpOARjdVtA"
   },
   "outputs": [],
   "source": [
    "my_tuple = ('A', 'B', 1, 2, 'B', 'A')\n",
    "my_set_from_tuple = set(my_tuple)"
   ]
  },
  {
   "cell_type": "code",
   "execution_count": null,
   "metadata": {
    "colab": {
     "base_uri": "https://localhost:8080/"
    },
    "executionInfo": {
     "elapsed": 92,
     "status": "ok",
     "timestamp": 1652275103020,
     "user": {
      "displayName": "Akhil Vydyula",
      "userId": "12835033834937061766"
     },
     "user_tz": -330
    },
    "id": "vR1MqK5hdVtG",
    "outputId": "ff9cdc2d-a788-4109-b31a-471c71feefde"
   },
   "outputs": [
    {
     "data": {
      "text/plain": [
       "{1, 2, 'A', 'B'}"
      ]
     },
     "execution_count": 8,
     "metadata": {},
     "output_type": "execute_result"
    }
   ],
   "source": [
    "my_set_from_tuple"
   ]
  },
  {
   "cell_type": "markdown",
   "metadata": {
    "id": "dHLllxcrdVtL"
   },
   "source": [
    "#### Add an element to the set\n",
    "\n",
    "---"
   ]
  },
  {
   "cell_type": "code",
   "execution_count": null,
   "metadata": {
    "id": "KfFCL3phdVtN"
   },
   "outputs": [],
   "source": [
    "my_set.add('O')"
   ]
  },
  {
   "cell_type": "code",
   "execution_count": null,
   "metadata": {
    "colab": {
     "base_uri": "https://localhost:8080/"
    },
    "executionInfo": {
     "elapsed": 93,
     "status": "ok",
     "timestamp": 1652275103026,
     "user": {
      "displayName": "Akhil Vydyula",
      "userId": "12835033834937061766"
     },
     "user_tz": -330
    },
    "id": "95LU3t5rdVtT",
    "outputId": "478aed7b-f8d2-4242-a192-19f21dfecd48"
   },
   "outputs": [
    {
     "data": {
      "text/plain": [
       "{1, 2, 4, 'A', 'B', 'C', 'D', 'E', 'O'}"
      ]
     },
     "execution_count": 10,
     "metadata": {},
     "output_type": "execute_result"
    }
   ],
   "source": [
    "my_set"
   ]
  },
  {
   "cell_type": "markdown",
   "metadata": {
    "id": "ivDskOwldVta"
   },
   "source": [
    "#### Delete an element from the list\n",
    "\n",
    "* Discard - It will not throw an error, if the element you want to remove is not present in the set.\n",
    "* remove - It will throw an error, if the element you want to remove is not present in the set.\n",
    "\n",
    "---\n",
    "\n"
   ]
  },
  {
   "cell_type": "code",
   "execution_count": null,
   "metadata": {
    "id": "RSiU9_hJdVtb"
   },
   "outputs": [],
   "source": [
    "my_set = {1, 2, 4, 'A', 'B', 'C', 'D', 'E', 'O'}"
   ]
  },
  {
   "cell_type": "code",
   "execution_count": null,
   "metadata": {
    "id": "V-EpIkwHdVtg"
   },
   "outputs": [],
   "source": [
    "my_set.discard('A')"
   ]
  },
  {
   "cell_type": "code",
   "execution_count": null,
   "metadata": {
    "colab": {
     "base_uri": "https://localhost:8080/"
    },
    "executionInfo": {
     "elapsed": 91,
     "status": "ok",
     "timestamp": 1652275103032,
     "user": {
      "displayName": "Akhil Vydyula",
      "userId": "12835033834937061766"
     },
     "user_tz": -330
    },
    "id": "Y5kfukGfdVtr",
    "outputId": "b4e4f7c6-b4be-4588-b29b-bd7ffee19783"
   },
   "outputs": [
    {
     "data": {
      "text/plain": [
       "{1, 2, 4, 'B', 'C', 'D', 'E', 'O'}"
      ]
     },
     "execution_count": 13,
     "metadata": {},
     "output_type": "execute_result"
    }
   ],
   "source": [
    "my_set"
   ]
  },
  {
   "cell_type": "code",
   "execution_count": null,
   "metadata": {
    "id": "w8NZGe59dVt2"
   },
   "outputs": [],
   "source": [
    "my_set.discard('X')"
   ]
  },
  {
   "cell_type": "code",
   "execution_count": null,
   "metadata": {
    "colab": {
     "base_uri": "https://localhost:8080/",
     "height": 165
    },
    "executionInfo": {
     "elapsed": 134,
     "status": "error",
     "timestamp": 1652275103080,
     "user": {
      "displayName": "Akhil Vydyula",
      "userId": "12835033834937061766"
     },
     "user_tz": -330
    },
    "id": "Qb8SKy-bdVuA",
    "outputId": "0b8d2da4-99d7-49cf-8165-a2f47663fe11",
    "scrolled": true
   },
   "outputs": [
    {
     "ename": "KeyError",
     "evalue": "ignored",
     "output_type": "error",
     "traceback": [
      "\u001b[0;31m---------------------------------------------------------------------------\u001b[0m",
      "\u001b[0;31mKeyError\u001b[0m                                  Traceback (most recent call last)",
      "\u001b[0;32m<ipython-input-15-b6f9b758b157>\u001b[0m in \u001b[0;36m<module>\u001b[0;34m()\u001b[0m\n\u001b[0;32m----> 1\u001b[0;31m \u001b[0mmy_set\u001b[0m\u001b[0;34m.\u001b[0m\u001b[0mremove\u001b[0m\u001b[0;34m(\u001b[0m\u001b[0;34m'X'\u001b[0m\u001b[0;34m)\u001b[0m\u001b[0;34m\u001b[0m\u001b[0;34m\u001b[0m\u001b[0m\n\u001b[0m",
      "\u001b[0;31mKeyError\u001b[0m: 'X'"
     ]
    }
   ],
   "source": [
    "my_set.remove('X')"
   ]
  },
  {
   "cell_type": "markdown",
   "metadata": {
    "id": "Rw7jUza9dVuI"
   },
   "source": [
    "#### Difference between two Sets\n",
    "## A-B"
   ]
  },
  {
   "cell_type": "code",
   "execution_count": null,
   "metadata": {
    "colab": {
     "base_uri": "https://localhost:8080/"
    },
    "executionInfo": {
     "elapsed": 16,
     "status": "ok",
     "timestamp": 1652275706190,
     "user": {
      "displayName": "Akhil Vydyula",
      "userId": "12835033834937061766"
     },
     "user_tz": -330
    },
    "id": "MkMNOxuydVuK",
    "outputId": "dd5baa84-ae7e-4ebc-dfdf-916db2442cc8"
   },
   "outputs": [
    {
     "data": {
      "text/plain": [
       "{1, 2, 'A', 'B'}"
      ]
     },
     "execution_count": 42,
     "metadata": {},
     "output_type": "execute_result"
    }
   ],
   "source": [
    "# Set 1\n",
    "my_set"
   ]
  },
  {
   "cell_type": "code",
   "execution_count": null,
   "metadata": {
    "colab": {
     "base_uri": "https://localhost:8080/"
    },
    "executionInfo": {
     "elapsed": 62,
     "status": "ok",
     "timestamp": 1652275707065,
     "user": {
      "displayName": "Akhil Vydyula",
      "userId": "12835033834937061766"
     },
     "user_tz": -330
    },
    "id": "W8xAoHDpdVuO",
    "outputId": "596c2c6b-fb83-4681-8773-e9f50d48c75c"
   },
   "outputs": [
    {
     "data": {
      "text/plain": [
       "{1, 2, 'A', 'B'}"
      ]
     },
     "execution_count": 43,
     "metadata": {},
     "output_type": "execute_result"
    }
   ],
   "source": [
    "# Set 2\n",
    "my_set_from_list"
   ]
  },
  {
   "cell_type": "code",
   "execution_count": null,
   "metadata": {
    "colab": {
     "base_uri": "https://localhost:8080/"
    },
    "executionInfo": {
     "elapsed": 53,
     "status": "ok",
     "timestamp": 1652275707066,
     "user": {
      "displayName": "Akhil Vydyula",
      "userId": "12835033834937061766"
     },
     "user_tz": -330
    },
    "id": "pZS_ckfQdVuW",
    "outputId": "6115c3ef-03a4-4ee9-e1e3-48c379d66510"
   },
   "outputs": [
    {
     "data": {
      "text/plain": [
       "set()"
      ]
     },
     "execution_count": 44,
     "metadata": {},
     "output_type": "execute_result"
    }
   ],
   "source": [
    "# difference of 2 sets\n",
    "my_set.difference(my_set_from_list)"
   ]
  },
  {
   "cell_type": "code",
   "execution_count": null,
   "metadata": {
    "colab": {
     "base_uri": "https://localhost:8080/"
    },
    "executionInfo": {
     "elapsed": 44,
     "status": "ok",
     "timestamp": 1652275707067,
     "user": {
      "displayName": "Akhil Vydyula",
      "userId": "12835033834937061766"
     },
     "user_tz": -330
    },
    "id": "utaan_92dVug",
    "outputId": "87186c8c-0071-42ef-a7ca-ef33bc04be55"
   },
   "outputs": [
    {
     "data": {
      "text/plain": [
       "{1, 2, 'A', 'B'}"
      ]
     },
     "execution_count": 45,
     "metadata": {},
     "output_type": "execute_result"
    }
   ],
   "source": [
    "# it will not update the results, if not stored in a variable\n",
    "my_set"
   ]
  },
  {
   "cell_type": "code",
   "execution_count": null,
   "metadata": {
    "id": "cqwq2_vvdVup"
   },
   "outputs": [],
   "source": [
    "# use the difference_update to store the results directly\n",
    "my_set.difference_update(my_set_from_list)"
   ]
  },
  {
   "cell_type": "code",
   "execution_count": null,
   "metadata": {
    "colab": {
     "base_uri": "https://localhost:8080/"
    },
    "executionInfo": {
     "elapsed": 37,
     "status": "ok",
     "timestamp": 1652275707069,
     "user": {
      "displayName": "Akhil Vydyula",
      "userId": "12835033834937061766"
     },
     "user_tz": -330
    },
    "id": "9G-1gWAhdVuu",
    "outputId": "d8b8e8a4-5242-4d3d-d481-c3b6566e2419"
   },
   "outputs": [
    {
     "data": {
      "text/plain": [
       "set()"
      ]
     },
     "execution_count": 47,
     "metadata": {},
     "output_type": "execute_result"
    }
   ],
   "source": [
    "# updated set\n",
    "my_set"
   ]
  },
  {
   "cell_type": "markdown",
   "metadata": {
    "id": "VmvoAeArdVuy"
   },
   "source": [
    "#### Intersection of two sets"
   ]
  },
  {
   "cell_type": "code",
   "execution_count": null,
   "metadata": {
    "id": "z-7NNBaxdVu0"
   },
   "outputs": [],
   "source": [
    "# Set 1\n",
    "my_set = {1, 2, 4, 'A', 'B', 'C', 'D', 'E', 'O'}"
   ]
  },
  {
   "cell_type": "code",
   "execution_count": null,
   "metadata": {
    "colab": {
     "base_uri": "https://localhost:8080/"
    },
    "executionInfo": {
     "elapsed": 33,
     "status": "ok",
     "timestamp": 1652275707071,
     "user": {
      "displayName": "Akhil Vydyula",
      "userId": "12835033834937061766"
     },
     "user_tz": -330
    },
    "id": "6FpQbpsHdVu8",
    "outputId": "ab51532a-7ff1-4a5d-e245-871b7f6a260a"
   },
   "outputs": [
    {
     "data": {
      "text/plain": [
       "{1, 2, 'A', 'B'}"
      ]
     },
     "execution_count": 49,
     "metadata": {},
     "output_type": "execute_result"
    }
   ],
   "source": [
    "# Set 2 \n",
    "my_set_from_list"
   ]
  },
  {
   "cell_type": "code",
   "execution_count": null,
   "metadata": {
    "colab": {
     "base_uri": "https://localhost:8080/"
    },
    "executionInfo": {
     "elapsed": 29,
     "status": "ok",
     "timestamp": 1652275707072,
     "user": {
      "displayName": "Akhil Vydyula",
      "userId": "12835033834937061766"
     },
     "user_tz": -330
    },
    "id": "QIvF4YyOdVvG",
    "outputId": "aba24d1f-6e83-4a36-8bb3-18a3316e9586"
   },
   "outputs": [
    {
     "data": {
      "text/plain": [
       "{1, 2, 'A', 'B'}"
      ]
     },
     "execution_count": 50,
     "metadata": {},
     "output_type": "execute_result"
    }
   ],
   "source": [
    "# intersection of 2 sets\n",
    "my_set.intersection(my_set_from_list)"
   ]
  },
  {
   "cell_type": "code",
   "execution_count": null,
   "metadata": {
    "colab": {
     "base_uri": "https://localhost:8080/"
    },
    "executionInfo": {
     "elapsed": 24,
     "status": "ok",
     "timestamp": 1652275707073,
     "user": {
      "displayName": "Akhil Vydyula",
      "userId": "12835033834937061766"
     },
     "user_tz": -330
    },
    "id": "0qXvUeKgdVvR",
    "outputId": "7af935f8-fcec-420b-e9c2-588d380ed2b1"
   },
   "outputs": [
    {
     "data": {
      "text/plain": [
       "{1, 2, 4, 'A', 'B', 'C', 'D', 'E', 'O'}"
      ]
     },
     "execution_count": 51,
     "metadata": {},
     "output_type": "execute_result"
    }
   ],
   "source": [
    "# it will not update the results, if not stored in a variable\n",
    "my_set"
   ]
  },
  {
   "cell_type": "code",
   "execution_count": null,
   "metadata": {
    "id": "K05y2YVtdVvV"
   },
   "outputs": [],
   "source": [
    "# to update directly, use intersection_update\n",
    "my_set.intersection_update(my_set_from_list)"
   ]
  },
  {
   "cell_type": "code",
   "execution_count": null,
   "metadata": {
    "colab": {
     "base_uri": "https://localhost:8080/"
    },
    "executionInfo": {
     "elapsed": 72,
     "status": "ok",
     "timestamp": 1652275707921,
     "user": {
      "displayName": "Akhil Vydyula",
      "userId": "12835033834937061766"
     },
     "user_tz": -330
    },
    "id": "rJ7CWNKNdVvb",
    "outputId": "95e8125b-46f1-45ca-fe3d-3f8a43e35497"
   },
   "outputs": [
    {
     "data": {
      "text/plain": [
       "{1, 2, 'A', 'B'}"
      ]
     },
     "execution_count": 53,
     "metadata": {},
     "output_type": "execute_result"
    }
   ],
   "source": [
    "# updated set\n",
    "my_set"
   ]
  },
  {
   "cell_type": "markdown",
   "metadata": {
    "id": "R7ugFNO1dVvg"
   },
   "source": [
    "#### Other operations on set\n",
    "\n",
    "* is_disjoint\n",
    "* is_subset\n",
    "* is_superset\n",
    "* union\n",
    "\n",
    "---"
   ]
  },
  {
   "cell_type": "code",
   "execution_count": null,
   "metadata": {
    "id": "a0-b10pedVvj"
   },
   "outputs": [],
   "source": [
    "# define 3 random sets\n",
    "sample_set_1 = {'A', 'B', 'C', 'D', 'E', 'F'}\n",
    "sample_set_2 = {'A', 'D', 'E'}\n",
    "sample_set_3 = {'S', 'T', 'U'}"
   ]
  },
  {
   "cell_type": "code",
   "execution_count": null,
   "metadata": {
    "colab": {
     "base_uri": "https://localhost:8080/"
    },
    "executionInfo": {
     "elapsed": 58,
     "status": "ok",
     "timestamp": 1652275707923,
     "user": {
      "displayName": "Akhil Vydyula",
      "userId": "12835033834937061766"
     },
     "user_tz": -330
    },
    "id": "CdukRgokdVvo",
    "outputId": "a5ac8df1-bb87-45aa-ce16-38655cf5ef19"
   },
   "outputs": [
    {
     "data": {
      "text/plain": [
       "False"
      ]
     },
     "execution_count": 55,
     "metadata": {},
     "output_type": "execute_result"
    }
   ],
   "source": [
    "# check if 2 sets are disjoint sets\n",
    "sample_set_1.isdisjoint(sample_set_2)"
   ]
  },
  {
   "cell_type": "code",
   "execution_count": null,
   "metadata": {
    "colab": {
     "base_uri": "https://localhost:8080/"
    },
    "executionInfo": {
     "elapsed": 52,
     "status": "ok",
     "timestamp": 1652275707924,
     "user": {
      "displayName": "Akhil Vydyula",
      "userId": "12835033834937061766"
     },
     "user_tz": -330
    },
    "id": "1ElEgF29dVvv",
    "outputId": "38cbd0f2-daaf-43a5-b43f-3e0482f970cf"
   },
   "outputs": [
    {
     "data": {
      "text/plain": [
       "True"
      ]
     },
     "execution_count": 56,
     "metadata": {},
     "output_type": "execute_result"
    }
   ],
   "source": [
    "sample_set_1.isdisjoint(sample_set_3)"
   ]
  },
  {
   "cell_type": "code",
   "execution_count": null,
   "metadata": {
    "colab": {
     "base_uri": "https://localhost:8080/"
    },
    "executionInfo": {
     "elapsed": 48,
     "status": "ok",
     "timestamp": 1652275707925,
     "user": {
      "displayName": "Akhil Vydyula",
      "userId": "12835033834937061766"
     },
     "user_tz": -330
    },
    "id": "51e1DYEcdVv2",
    "outputId": "71e953c4-8888-4c91-f683-177f263fdaa6"
   },
   "outputs": [
    {
     "data": {
      "text/plain": [
       "True"
      ]
     },
     "execution_count": 57,
     "metadata": {},
     "output_type": "execute_result"
    }
   ],
   "source": [
    "# check if one set is subset of another set\n",
    "sample_set_2.issubset(sample_set_1)"
   ]
  },
  {
   "cell_type": "code",
   "execution_count": null,
   "metadata": {
    "colab": {
     "base_uri": "https://localhost:8080/"
    },
    "executionInfo": {
     "elapsed": 44,
     "status": "ok",
     "timestamp": 1652275707926,
     "user": {
      "displayName": "Akhil Vydyula",
      "userId": "12835033834937061766"
     },
     "user_tz": -330
    },
    "id": "H-A7aAV_dVv_",
    "outputId": "b56b47aa-775f-4d50-e657-f9a71872d00b"
   },
   "outputs": [
    {
     "data": {
      "text/plain": [
       "True"
      ]
     },
     "execution_count": 58,
     "metadata": {},
     "output_type": "execute_result"
    }
   ],
   "source": [
    "# check if one set is superset of another\n",
    "sample_set_1.issuperset(sample_set_2)"
   ]
  },
  {
   "cell_type": "code",
   "execution_count": null,
   "metadata": {
    "colab": {
     "base_uri": "https://localhost:8080/"
    },
    "executionInfo": {
     "elapsed": 38,
     "status": "ok",
     "timestamp": 1652275707927,
     "user": {
      "displayName": "Akhil Vydyula",
      "userId": "12835033834937061766"
     },
     "user_tz": -330
    },
    "id": "BFjri6cvdVwG",
    "outputId": "b5b26536-1b84-418b-e969-bb12dad608e8"
   },
   "outputs": [
    {
     "data": {
      "text/plain": [
       "{'A', 'B', 'C', 'D', 'E', 'F', 'S', 'T', 'U'}"
      ]
     },
     "execution_count": 59,
     "metadata": {},
     "output_type": "execute_result"
    }
   ],
   "source": [
    "# union of 2 sets\n",
    "sample_set_1.union(sample_set_3)"
   ]
  },
  {
   "cell_type": "markdown",
   "metadata": {
    "id": "hwWfDltBdVwQ"
   },
   "source": [
    "#### Update Set\n",
    "\n",
    "---"
   ]
  },
  {
   "cell_type": "code",
   "execution_count": null,
   "metadata": {
    "id": "eury5_2DdVwV"
   },
   "outputs": [],
   "source": [
    "# update a set with new values, it will add the values which are not present in the original set.\n",
    "sample_set_1.update({'C', 'D', 'E', 'R', 'Z'})"
   ]
  },
  {
   "cell_type": "code",
   "execution_count": null,
   "metadata": {
    "colab": {
     "base_uri": "https://localhost:8080/"
    },
    "executionInfo": {
     "elapsed": 33,
     "status": "ok",
     "timestamp": 1652275707929,
     "user": {
      "displayName": "Akhil Vydyula",
      "userId": "12835033834937061766"
     },
     "user_tz": -330
    },
    "id": "oQ_-c0dvdVwa",
    "outputId": "7575422f-ab68-4e62-c06c-c5cc442e20e2"
   },
   "outputs": [
    {
     "data": {
      "text/plain": [
       "{'A', 'B', 'C', 'D', 'E', 'F', 'R', 'Z'}"
      ]
     },
     "execution_count": 61,
     "metadata": {},
     "output_type": "execute_result"
    }
   ],
   "source": [
    "sample_set_1"
   ]
  },
  {
   "cell_type": "markdown",
   "metadata": {
    "id": "gPh8sLA1dVwf"
   },
   "source": [
    "#### Iterate the set\n",
    "\n",
    "---"
   ]
  },
  {
   "cell_type": "code",
   "execution_count": null,
   "metadata": {
    "colab": {
     "base_uri": "https://localhost:8080/"
    },
    "executionInfo": {
     "elapsed": 25,
     "status": "ok",
     "timestamp": 1652275707930,
     "user": {
      "displayName": "Akhil Vydyula",
      "userId": "12835033834937061766"
     },
     "user_tz": -330
    },
    "id": "HgzUYemBdVwg",
    "outputId": "7de3f446-bd76-43b6-9d6f-79a8d2c920eb"
   },
   "outputs": [
    {
     "name": "stdout",
     "output_type": "stream",
     "text": [
      "F\n",
      "D\n",
      "A\n",
      "B\n",
      "E\n",
      "C\n",
      "Z\n",
      "R\n"
     ]
    }
   ],
   "source": [
    "# Iterate the set\n",
    "for element in sample_set_1:\n",
    "    print(element)"
   ]
  }
 ],
 "metadata": {
  "colab": {
   "name": "3. Data Structure - Sets.ipynb",
   "provenance": []
  },
  "kernelspec": {
   "display_name": "Python 3",
   "language": "python",
   "name": "python3"
  },
  "language_info": {
   "codemirror_mode": {
    "name": "ipython",
    "version": 3
   },
   "file_extension": ".py",
   "mimetype": "text/x-python",
   "name": "python",
   "nbconvert_exporter": "python",
   "pygments_lexer": "ipython3",
   "version": "3.7.3"
  }
 },
 "nbformat": 4,
 "nbformat_minor": 0
}
